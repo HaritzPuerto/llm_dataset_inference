{
 "cells": [
  {
   "cell_type": "markdown",
   "metadata": {},
   "source": [
    "# Generate MIA Features\n",
    "\n",
    "Based on di.py script"
   ]
  },
  {
   "cell_type": "code",
   "execution_count": 1,
   "metadata": {},
   "outputs": [],
   "source": [
    "from utils import prepare_model\n",
    "from metrics import aggregate_metrics, reference_model_registry\n",
    "import json, os\n",
    "import argparse\n",
    "from datasets import load_dataset\n",
    "from dataloader import load_data"
   ]
  },
  {
   "cell_type": "code",
   "execution_count": 2,
   "metadata": {},
   "outputs": [],
   "source": [
    "# model_name = \"EleutherAI/pythia-410m-deduped\"\n",
    "model_name = \"EleutherAI/pythia-2.8b\"\n",
    "cache_dir = \"/tmp\""
   ]
  },
  {
   "cell_type": "code",
   "execution_count": 3,
   "metadata": {},
   "outputs": [
    {
     "name": "stderr",
     "output_type": "stream",
     "text": [
      "Special tokens have been added in the vocabulary, make sure the associated word embeddings are fine-tuned or trained.\n"
     ]
    },
    {
     "name": "stdout",
     "output_type": "stream",
     "text": [
      "Model loaded\n"
     ]
    }
   ],
   "source": [
    "llm, tokenizer = prepare_model(model_name, cache_dir=cache_dir)"
   ]
  },
  {
   "cell_type": "code",
   "execution_count": 4,
   "metadata": {},
   "outputs": [],
   "source": [
    "from datasets import load_dataset\n",
    "\n",
    "ds = load_dataset(\"haritzpuerto/the_pile_arxiv_1k_sample\")"
   ]
  },
  {
   "cell_type": "markdown",
   "metadata": {},
   "source": [
    "# Step 0: Make Splits A and B\n",
    "\n",
    "Splits A from members and non-members are used to trained the NN.\n",
    "\n",
    "Splits B from members and non-members are used to perform Dataset Inference (DI)"
   ]
  },
  {
   "cell_type": "code",
   "execution_count": 5,
   "metadata": {},
   "outputs": [
    {
     "data": {
      "text/plain": [
       "DatasetDict({\n",
       "    train: Dataset({\n",
       "        features: ['text', 'meta'],\n",
       "        num_rows: 1000\n",
       "    })\n",
       "    validation: Dataset({\n",
       "        features: ['text', 'meta'],\n",
       "        num_rows: 2434\n",
       "    })\n",
       "    test: Dataset({\n",
       "        features: ['text', 'meta'],\n",
       "        num_rows: 2407\n",
       "    })\n",
       "})"
      ]
     },
     "execution_count": 5,
     "metadata": {},
     "output_type": "execute_result"
    }
   ],
   "source": [
    "ds"
   ]
  },
  {
   "cell_type": "code",
   "execution_count": 70,
   "metadata": {},
   "outputs": [],
   "source": [
    "A_members = ds['train'].select(range(0, 500))\n",
    "A_nonmembers = ds['validation'].select(range(500))\n",
    "\n",
    "B_members = ds['train'].select(range(500, 1000))\n",
    "B_nonmembers = ds['validation'].select(range(500, 1000))"
   ]
  },
  {
   "cell_type": "markdown",
   "metadata": {},
   "source": [
    "# Step 1: Aggregate Features with MIAs"
   ]
  },
  {
   "cell_type": "code",
   "execution_count": 7,
   "metadata": {},
   "outputs": [],
   "source": [
    "metric_list = [\"k_min_probs\", \"ppl\", \"zlib_ratio\", \"k_max_probs\"]"
   ]
  },
  {
   "cell_type": "code",
   "execution_count": 8,
   "metadata": {},
   "outputs": [
    {
     "name": "stderr",
     "output_type": "stream",
     "text": [
      "100%|██████████| 50/50 [02:01<00:00,  2.43s/it]\n"
     ]
    }
   ],
   "source": [
    "A_members_metrics = aggregate_metrics(llm, tokenizer, A_members, metric_list, None, batch_size = 10)"
   ]
  },
  {
   "cell_type": "code",
   "execution_count": 9,
   "metadata": {},
   "outputs": [
    {
     "data": {
      "text/plain": [
       "500"
      ]
     },
     "execution_count": 9,
     "metadata": {},
     "output_type": "execute_result"
    }
   ],
   "source": [
    "len(A_members_metrics['ppl'])"
   ]
  },
  {
   "cell_type": "code",
   "execution_count": 18,
   "metadata": {},
   "outputs": [
    {
     "name": "stderr",
     "output_type": "stream",
     "text": [
      "100%|██████████| 50/50 [02:01<00:00,  2.43s/it]\n"
     ]
    }
   ],
   "source": [
    "A_nonmembers_metrics = aggregate_metrics(llm, tokenizer, A_nonmembers, metric_list, None, batch_size = 10)"
   ]
  },
  {
   "cell_type": "markdown",
   "metadata": {},
   "source": [
    "# Step 2: Learn MIA Correlations\n",
    "\n",
    "In this stage, we train a linear regressor to learn the importance of weights for different MIA attacks to use for the final dataset inference procedure. \n",
    "\n",
    "\n",
    "Based on the linear_di.py script"
   ]
  },
  {
   "cell_type": "code",
   "execution_count": 19,
   "metadata": {},
   "outputs": [],
   "source": [
    "import os\n",
    "import sys\n",
    "import json\n",
    "import numpy as np\n",
    "import pandas as pd\n",
    "from scipy.stats import ttest_ind, chi2, norm\n",
    "import torch\n",
    "import torch.nn as nn\n",
    "import argparse\n",
    "from tqdm import tqdm\n",
    "from selected_features import feature_list"
   ]
  },
  {
   "cell_type": "code",
   "execution_count": 20,
   "metadata": {},
   "outputs": [],
   "source": [
    "def split_train_val(metrics):\n",
    "    keys = list(metrics.keys())\n",
    "    num_elements = len(metrics[keys[0]])\n",
    "    print (f\"Using {num_elements} elements\")\n",
    "    # select a random subset of val_metrics (50% of ids)\n",
    "    ids_train = np.random.choice(num_elements, num_elements//2, replace=False)\n",
    "    ids_val = np.array([i for i in range(num_elements) if i not in ids_train])\n",
    "    new_metrics_train = {}\n",
    "    new_metrics_val = {}\n",
    "    for key in keys:\n",
    "        new_metrics_train[key] = np.array(metrics[key])[ids_train]\n",
    "        new_metrics_val[key] = np.array(metrics[key])[ids_val]\n",
    "    return new_metrics_train, new_metrics_val\n",
    "\n",
    "def remove_outliers(metrics, remove_frac=0.05, outliers = \"zero\"):\n",
    "    # Sort the array to work with ordered data\n",
    "    sorted_ids = np.argsort(metrics)\n",
    "    \n",
    "    # Calculate the number of elements to remove from each side\n",
    "    total_elements = len(metrics)\n",
    "    elements_to_remove_each_side = int(total_elements * remove_frac / 2) \n",
    "    \n",
    "    # Ensure we're not attempting to remove more elements than are present\n",
    "    if elements_to_remove_each_side * 2 > total_elements:\n",
    "        raise ValueError(\"remove_frac is too large, resulting in no elements left.\")\n",
    "    \n",
    "    # Change the removed metrics to 0.\n",
    "    lowest_ids = sorted_ids[:elements_to_remove_each_side]\n",
    "    highest_ids = sorted_ids[-elements_to_remove_each_side:]\n",
    "    all_ids = np.concatenate((lowest_ids, highest_ids))\n",
    "\n",
    "    # import pdb; pdb.set_trace()\n",
    "    \n",
    "    trimmed_metrics = np.copy(metrics)\n",
    "    \n",
    "    if outliers == \"zero\":\n",
    "        trimmed_metrics[all_ids] = 0\n",
    "    elif outliers == \"mean\" or outliers == \"mean+p-value\":\n",
    "        trimmed_metrics[all_ids] = np.mean(trimmed_metrics)\n",
    "    elif outliers == \"clip\":\n",
    "        highest_val_permissible = trimmed_metrics[highest_ids[0]]\n",
    "        lowest_val_permissible = trimmed_metrics[lowest_ids[-1]]\n",
    "        trimmed_metrics[highest_ids] =  highest_val_permissible\n",
    "        trimmed_metrics[lowest_ids] =   lowest_val_permissible\n",
    "    elif outliers == \"randomize\":\n",
    "        #this will randomize the order of metrics\n",
    "        trimmed_metrics = np.delete(trimmed_metrics, all_ids)\n",
    "    else:\n",
    "        assert outliers in [\"keep\", \"p-value\"]\n",
    "        pass\n",
    "        \n",
    "    \n",
    "    return trimmed_metrics\n",
    "\n",
    "def normalize_and_stack(train_metrics, val_metrics, normalize=\"train\"):\n",
    "    '''\n",
    "    excpects an input list of list of metrics\n",
    "    normalize val with corre\n",
    "    '''\n",
    "    new_train_metrics = []\n",
    "    new_val_metrics = []\n",
    "    for (tm, vm) in zip(train_metrics, val_metrics):\n",
    "        if normalize == \"combined\":\n",
    "            combined_m = np.concatenate((tm, vm))\n",
    "            mean_tm = np.mean(combined_m)\n",
    "            std_tm = np.std(combined_m)\n",
    "        else:\n",
    "            mean_tm = np.mean(tm)\n",
    "            std_tm = np.std(tm)\n",
    "        \n",
    "        if normalize == \"no\":\n",
    "            normalized_vm = vm\n",
    "            normalized_tm = tm\n",
    "        else:\n",
    "            #normalization should be done with respect to the train set statistics\n",
    "            normalized_vm = (vm - mean_tm) / std_tm\n",
    "            normalized_tm = (tm - mean_tm) / std_tm\n",
    "        \n",
    "        new_train_metrics.append(normalized_tm)\n",
    "        new_val_metrics.append(normalized_vm)\n",
    "\n",
    "    train_metrics = np.stack(new_train_metrics, axis=1)\n",
    "    val_metrics = np.stack(new_val_metrics, axis=1)\n",
    "    return train_metrics, val_metrics"
   ]
  },
  {
   "cell_type": "markdown",
   "metadata": {},
   "source": [
    "## Step 2.1 Remove Outliers\n",
    "\n",
    "Across each MIA feature value, we first modify the top 5% outliers by changing their values to the mean of the distribution. This step is crucial to prevent issues in Step 3, where the model might learn skewed correlations due to a few outlier samples. "
   ]
  },
  {
   "cell_type": "code",
   "execution_count": 61,
   "metadata": {},
   "outputs": [],
   "source": [
    "def prepare_metrics(members_metrics, nonmembers_metrics, outliers=\"clip\", return_tensors=False):\n",
    "    keys = list(members_metrics.keys())\n",
    "    np_members_metrics = []\n",
    "    np_nonmembers_metrics = []\n",
    "    for key in keys:\n",
    "        members_metric_key = np.array(members_metrics[key])\n",
    "        nonmembers_metric_key = np.array(nonmembers_metrics[key])\n",
    "        \n",
    "        if outliers is not None:\n",
    "            # remove the top 2.5% and bottom 2.5% of the data\n",
    "            members_metric_key = remove_outliers(members_metric_key, remove_frac = 0.05, outliers = outliers)\n",
    "            nonmembers_metric_key = remove_outliers(nonmembers_metric_key, remove_frac = 0.05, outliers = outliers)\n",
    "\n",
    "        np_members_metrics.append(members_metric_key)\n",
    "        np_nonmembers_metrics.append(nonmembers_metric_key)\n",
    "\n",
    "    # concatenate the train and val metrics by stacking them\n",
    "    np_members_metrics, np_nonmembers_metrics = normalize_and_stack(np_members_metrics, np_nonmembers_metrics)\n",
    "    if return_tensors:\n",
    "        np_members_metrics = torch.tensor(np_members_metrics, dtype=torch.float32)\n",
    "        np_nonmembers_metrics = torch.tensor(np_nonmembers_metrics, dtype=torch.float32)\n",
    "\n",
    "    return np_members_metrics, np_nonmembers_metrics"
   ]
  },
  {
   "cell_type": "code",
   "execution_count": 21,
   "metadata": {},
   "outputs": [],
   "source": [
    "# Remove outliers\n",
    "\n",
    "outliers = \"clip\" #  choices=[\"randomize\", \"keep\", \"zero\", \"mean\", \"clip\", \"mean+p-value\", \"p-value\"]\n",
    "\n",
    "keys = list(A_members_metrics.keys())\n",
    "train_metrics = []\n",
    "val_metrics = []\n",
    "for key in keys:\n",
    "    metrics_train_key = np.array(A_members_metrics[key])\n",
    "    metrics_val_key = np.array(A_nonmembers_metrics[key])\n",
    "\n",
    "    # remove the top 2.5% and bottom 2.5% of the data\n",
    "    \n",
    "    metrics_train_key = remove_outliers(metrics_train_key, remove_frac = 0.05, outliers = outliers)\n",
    "    metrics_val_key = remove_outliers(metrics_val_key, remove_frac = 0.05, outliers = outliers)\n",
    "\n",
    "    train_metrics.append(metrics_train_key)\n",
    "    val_metrics.append(metrics_val_key)\n",
    "\n",
    "# concatenate the train and val metrics by stacking them\n",
    "\n",
    "# train_metrics, val_metrics = new_train_metrics, new_val_metrics\n",
    "train_metrics, val_metrics = normalize_and_stack(train_metrics, val_metrics)"
   ]
  },
  {
   "cell_type": "code",
   "execution_count": 22,
   "metadata": {},
   "outputs": [
    {
     "data": {
      "text/plain": [
       "['ppl',\n",
       " 'k_min_probs_0.05',\n",
       " 'k_min_probs_0.1',\n",
       " 'k_min_probs_0.2',\n",
       " 'k_min_probs_0.3',\n",
       " 'k_min_probs_0.4',\n",
       " 'k_min_probs_0.5',\n",
       " 'k_min_probs_0.6',\n",
       " 'k_max_probs_0.05',\n",
       " 'k_max_probs_0.1',\n",
       " 'k_max_probs_0.2',\n",
       " 'k_max_probs_0.3',\n",
       " 'k_max_probs_0.4',\n",
       " 'k_max_probs_0.5',\n",
       " 'k_max_probs_0.6',\n",
       " 'zlib_ratio']"
      ]
     },
     "execution_count": 22,
     "metadata": {},
     "output_type": "execute_result"
    }
   ],
   "source": [
    "keys"
   ]
  },
  {
   "cell_type": "code",
   "execution_count": 23,
   "metadata": {},
   "outputs": [
    {
     "name": "stdout",
     "output_type": "stream",
     "text": [
      "(500, 16)\n",
      "(499, 16)\n"
     ]
    }
   ],
   "source": [
    "print(train_metrics.shape)\n",
    "print(val_metrics.shape)"
   ]
  },
  {
   "cell_type": "code",
   "execution_count": 24,
   "metadata": {},
   "outputs": [],
   "source": [
    "# aux function\n",
    "def get_dataset_splits(_train_metrics, _val_metrics, num_samples):\n",
    "    # get the train and val sets\n",
    "    for_train_train_metrics = _train_metrics[:num_samples]\n",
    "    for_train_val_metrics = _val_metrics[:num_samples]\n",
    "    for_val_train_metrics = _train_metrics[num_samples:]\n",
    "    for_val_val_metrics = _val_metrics[num_samples:]\n",
    "\n",
    "\n",
    "    # create the train and val sets\n",
    "    train_x = np.concatenate((for_train_train_metrics, for_train_val_metrics), axis=0)\n",
    "    train_y = np.concatenate((-1*np.zeros(for_train_train_metrics.shape[0]), np.ones(for_train_val_metrics.shape[0])))\n",
    "    val_x = np.concatenate((for_val_train_metrics, for_val_val_metrics), axis=0)\n",
    "    val_y = np.concatenate((-1*np.zeros(for_val_train_metrics.shape[0]), np.ones(for_val_val_metrics.shape[0])))\n",
    "    \n",
    "    # return tensors\n",
    "    train_x = torch.tensor(train_x, dtype=torch.float32)\n",
    "    train_y = torch.tensor(train_y, dtype=torch.float32)\n",
    "    val_x = torch.tensor(val_x, dtype=torch.float32)\n",
    "    val_y = torch.tensor(val_y, dtype=torch.float32)\n",
    "    \n",
    "    return (train_x, train_y), (val_x, val_y)"
   ]
  },
  {
   "cell_type": "code",
   "execution_count": 49,
   "metadata": {},
   "outputs": [],
   "source": [
    "# aux functions about MIA classifier\n",
    "\n",
    "def train_model(inputs, y, num_epochs=10000):\n",
    "    num_features = inputs.shape[1]\n",
    "    model = get_model(num_features)\n",
    "        \n",
    "    criterion = nn.BCEWithLogitsLoss()  # Binary Cross Entropy Loss for binary classification\n",
    "    optimizer = torch.optim.Adam(model.parameters(), lr=0.01)\n",
    "    \n",
    "    # Convert y to float tensor for BCEWithLogitsLoss\n",
    "    y_float = y.float()\n",
    "\n",
    "    with tqdm(range(num_epochs)) as pbar:\n",
    "        for epoch in pbar:\n",
    "            optimizer.zero_grad()\n",
    "            outputs = model(inputs).squeeze()  # Squeeze the output to remove singleton dimension\n",
    "            loss = criterion(outputs, y_float)\n",
    "            loss.backward()\n",
    "            optimizer.step()\n",
    "            pbar.set_description('loss {}'.format(loss.item()))\n",
    "    return model\n",
    "\n",
    "def get_model(num_features, linear = True):\n",
    "    if linear:\n",
    "        model = nn.Linear(num_features, 1)\n",
    "    else:\n",
    "        model = nn.Sequential(\n",
    "            nn.Linear(num_features, 10),\n",
    "            nn.ReLU(),\n",
    "            nn.Linear(10, 1)  # Single output neuron\n",
    "        )\n",
    "    return model\n",
    "\n",
    "def get_predictions(model, val, y):\n",
    "    with torch.no_grad():\n",
    "        preds = model(val).detach().squeeze()\n",
    "    criterion = nn.BCEWithLogitsLoss()\n",
    "    loss = criterion(preds, y.float())\n",
    "    return preds.numpy(), loss.item()\n",
    "\n",
    "from sklearn.metrics import roc_curve, auc\n",
    "import matplotlib.pyplot as plt\n",
    "\n",
    "def plot_roc_curve(model, val, y):\n",
    "    # get auc and plot roc curve\n",
    "    from sklearn.metrics import roc_auc_score\n",
    "    preds, _ = get_predictions(model, val, y)\n",
    "    auc_score = roc_auc_score(y, preds)\n",
    "    \n",
    "    # Compute ROC curve\n",
    "    fpr, tpr, thresholds = roc_curve(y, preds)\n",
    "    \n",
    "    # Compute AUC\n",
    "    roc_auc = auc(fpr, tpr)\n",
    "    \n",
    "    # Plot ROC curve\n",
    "    plt.figure()\n",
    "    plt.plot(fpr, tpr, color='darkorange', lw=2, label='ROC curve (area = %0.2f)' % roc_auc)\n",
    "    plt.plot([0, 1], [0, 1], color='navy', lw=2, linestyle='--')\n",
    "    plt.xlim([0.0, 1.0])\n",
    "    plt.ylim([0.0, 1.05])\n",
    "    plt.xlabel('False Positive Rate')\n",
    "    plt.ylabel('True Positive Rate')\n",
    "    plt.title('Receiver Operating Characteristic')\n",
    "    plt.legend(loc=\"lower right\")\n",
    "    plt.show()\n",
    "    \n",
    "    return auc_score"
   ]
  },
  {
   "cell_type": "markdown",
   "metadata": {},
   "source": [
    "## Step 2.2: Learn the weights of each feature\n",
    "\n",
    "We then pass the data through a linear regression model to learn weights for each feature.\n",
    "\n",
    "All ‘suspect’ samples in A_sus are labeled as 0, and all validation samples in A_val are labeled as 1."
   ]
  },
  {
   "cell_type": "code",
   "execution_count": 47,
   "metadata": {},
   "outputs": [],
   "source": [
    "# aux functions about p-values\n",
    "list_number_samples = [2, 5, 10, 20, 50, 100, 150, 200, 300, 400, 500, 600, 700, 800, 900, 1000]\n",
    "\n",
    "def get_p_value_list(heldout_train, heldout_val, list_number_samples):\n",
    "    # list_number_samples is used to see how the p-values changes across different number of samples\n",
    "    p_value_list = []\n",
    "    for num_samples in list_number_samples:\n",
    "        heldout_train_curr = heldout_train[:num_samples]\n",
    "        heldout_val_curr = heldout_val[:num_samples]\n",
    "        t, p_value = ttest_ind(heldout_train_curr, heldout_val_curr, alternative='less')\n",
    "        p_value_list.append(p_value)\n",
    "    return p_value_list\n",
    "    \n",
    "    \n",
    "\n",
    "def split_train_val(metrics):\n",
    "    keys = list(metrics.keys())\n",
    "    num_elements = len(metrics[keys[0]])\n",
    "    print (f\"Using {num_elements} elements\")\n",
    "    # select a random subset of val_metrics (50% of ids)\n",
    "    ids_train = np.random.choice(num_elements, num_elements//2, replace=False)\n",
    "    ids_val = np.array([i for i in range(num_elements) if i not in ids_train])\n",
    "    new_metrics_train = {}\n",
    "    new_metrics_val = {}\n",
    "    for key in keys:\n",
    "        new_metrics_train[key] = np.array(metrics[key])[ids_train]\n",
    "        new_metrics_val[key] = np.array(metrics[key])[ids_val]\n",
    "    return new_metrics_train, new_metrics_val"
   ]
  },
  {
   "cell_type": "code",
   "execution_count": 37,
   "metadata": {},
   "outputs": [
    {
     "name": "stderr",
     "output_type": "stream",
     "text": [
      "loss 0.6697367429733276: 100%|██████████| 1000/1000 [00:01<00:00, 613.99it/s]\n"
     ]
    }
   ],
   "source": [
    "num_samples = 250 # How many samples to use for training and validation?\n",
    "\n",
    "np.random.shuffle(train_metrics)\n",
    "np.random.shuffle(val_metrics)\n",
    "\n",
    "# train a model by creating a train set and a held out set\n",
    "(train_x, train_y), (val_x, val_y) = get_dataset_splits(train_metrics, val_metrics, num_samples)\n",
    "\n",
    "model = train_model(train_x, train_y, num_epochs = 1000)\n",
    "\n",
    "# using the model weights, get importance of each feature, and save to csv\n",
    "weights = model.weight.data.squeeze().tolist() \n",
    "features = keys\n",
    "feature_importance = {feature: weight for feature, weight in zip(features, weights)}\n",
    "df = pd.DataFrame(list(feature_importance.items()), columns=['Feature', 'Importance'])"
   ]
  },
  {
   "cell_type": "code",
   "execution_count": 38,
   "metadata": {},
   "outputs": [
    {
     "data": {
      "text/html": [
       "<div>\n",
       "<style scoped>\n",
       "    .dataframe tbody tr th:only-of-type {\n",
       "        vertical-align: middle;\n",
       "    }\n",
       "\n",
       "    .dataframe tbody tr th {\n",
       "        vertical-align: top;\n",
       "    }\n",
       "\n",
       "    .dataframe thead th {\n",
       "        text-align: right;\n",
       "    }\n",
       "</style>\n",
       "<table border=\"1\" class=\"dataframe\">\n",
       "  <thead>\n",
       "    <tr style=\"text-align: right;\">\n",
       "      <th></th>\n",
       "      <th>Feature</th>\n",
       "      <th>Importance</th>\n",
       "    </tr>\n",
       "  </thead>\n",
       "  <tbody>\n",
       "    <tr>\n",
       "      <th>0</th>\n",
       "      <td>ppl</td>\n",
       "      <td>0.468437</td>\n",
       "    </tr>\n",
       "    <tr>\n",
       "      <th>1</th>\n",
       "      <td>k_min_probs_0.05</td>\n",
       "      <td>0.123682</td>\n",
       "    </tr>\n",
       "    <tr>\n",
       "      <th>2</th>\n",
       "      <td>k_min_probs_0.1</td>\n",
       "      <td>0.270494</td>\n",
       "    </tr>\n",
       "    <tr>\n",
       "      <th>3</th>\n",
       "      <td>k_min_probs_0.2</td>\n",
       "      <td>-1.016907</td>\n",
       "    </tr>\n",
       "    <tr>\n",
       "      <th>4</th>\n",
       "      <td>k_min_probs_0.3</td>\n",
       "      <td>2.318766</td>\n",
       "    </tr>\n",
       "    <tr>\n",
       "      <th>5</th>\n",
       "      <td>k_min_probs_0.4</td>\n",
       "      <td>-1.886565</td>\n",
       "    </tr>\n",
       "    <tr>\n",
       "      <th>6</th>\n",
       "      <td>k_min_probs_0.5</td>\n",
       "      <td>-2.210210</td>\n",
       "    </tr>\n",
       "    <tr>\n",
       "      <th>7</th>\n",
       "      <td>k_min_probs_0.6</td>\n",
       "      <td>3.089156</td>\n",
       "    </tr>\n",
       "    <tr>\n",
       "      <th>8</th>\n",
       "      <td>k_max_probs_0.05</td>\n",
       "      <td>-0.010955</td>\n",
       "    </tr>\n",
       "    <tr>\n",
       "      <th>9</th>\n",
       "      <td>k_max_probs_0.1</td>\n",
       "      <td>0.451644</td>\n",
       "    </tr>\n",
       "    <tr>\n",
       "      <th>10</th>\n",
       "      <td>k_max_probs_0.2</td>\n",
       "      <td>0.058690</td>\n",
       "    </tr>\n",
       "    <tr>\n",
       "      <th>11</th>\n",
       "      <td>k_max_probs_0.3</td>\n",
       "      <td>1.090967</td>\n",
       "    </tr>\n",
       "    <tr>\n",
       "      <th>12</th>\n",
       "      <td>k_max_probs_0.4</td>\n",
       "      <td>-0.890156</td>\n",
       "    </tr>\n",
       "    <tr>\n",
       "      <th>13</th>\n",
       "      <td>k_max_probs_0.5</td>\n",
       "      <td>-0.924762</td>\n",
       "    </tr>\n",
       "    <tr>\n",
       "      <th>14</th>\n",
       "      <td>k_max_probs_0.6</td>\n",
       "      <td>-0.681145</td>\n",
       "    </tr>\n",
       "    <tr>\n",
       "      <th>15</th>\n",
       "      <td>zlib_ratio</td>\n",
       "      <td>0.107875</td>\n",
       "    </tr>\n",
       "  </tbody>\n",
       "</table>\n",
       "</div>"
      ],
      "text/plain": [
       "             Feature  Importance\n",
       "0                ppl    0.468437\n",
       "1   k_min_probs_0.05    0.123682\n",
       "2    k_min_probs_0.1    0.270494\n",
       "3    k_min_probs_0.2   -1.016907\n",
       "4    k_min_probs_0.3    2.318766\n",
       "5    k_min_probs_0.4   -1.886565\n",
       "6    k_min_probs_0.5   -2.210210\n",
       "7    k_min_probs_0.6    3.089156\n",
       "8   k_max_probs_0.05   -0.010955\n",
       "9    k_max_probs_0.1    0.451644\n",
       "10   k_max_probs_0.2    0.058690\n",
       "11   k_max_probs_0.3    1.090967\n",
       "12   k_max_probs_0.4   -0.890156\n",
       "13   k_max_probs_0.5   -0.924762\n",
       "14   k_max_probs_0.6   -0.681145\n",
       "15        zlib_ratio    0.107875"
      ]
     },
     "execution_count": 38,
     "metadata": {},
     "output_type": "execute_result"
    }
   ],
   "source": [
    "df"
   ]
  },
  {
   "cell_type": "code",
   "execution_count": 51,
   "metadata": {},
   "outputs": [
    {
     "data": {
      "image/png": "[encoded data removed]",
      "text/plain": [
       "<Figure size 640x480 with 1 Axes>"
      ]
     },
     "metadata": {},
     "output_type": "display_data"
    }
   ],
   "source": [
    "auc = plot_roc_curve(model, val_x, val_y)"
   ]
  },
  {
   "cell_type": "markdown",
   "metadata": {},
   "source": [
    "# Step 3: Dataset Inference\n",
    "\n",
    "Remember: All ‘suspect’ samples in Asus are labeled as 0, and all validation samples in Aval are labeled as 1."
   ]
  },
  {
   "cell_type": "code",
   "execution_count": 71,
   "metadata": {},
   "outputs": [
    {
     "name": "stderr",
     "output_type": "stream",
     "text": [
      "100%|██████████| 50/50 [02:01<00:00,  2.43s/it]\n"
     ]
    }
   ],
   "source": [
    "B_members_metrics = aggregate_metrics(llm, tokenizer, B_members, metric_list, None, batch_size = 10)\n",
    "B_nonmembers_metrics = aggregate_metrics(llm, tokenizer, B_nonmembers, metric_list, None, batch_size = 10)"
   ]
  },
  {
   "cell_type": "code",
   "execution_count": 80,
   "metadata": {},
   "outputs": [
    {
     "name": "stdout",
     "output_type": "stream",
     "text": [
      "The null hypothesis is that the B_members was not used for training. The p-value is 0.15231405733422593\n"
     ]
    }
   ],
   "source": [
    "B_members_metrics_tensor, B_nonmembers_metrics_ternsor = prepare_metrics(B_members_metrics, B_nonmembers_metrics, outliers=None, return_tensors=True)\n",
    "B_members_preds, _ = get_predictions(model, B_members_metrics_tensor, torch.tensor([0]*B_members_metrics_tensor.shape[0]))\n",
    "B_nonmembers_preds, _ = get_predictions(model, B_nonmembers_metrics_ternsor, torch.tensor([1]*B_nonmembers_metrics_ternsor.shape[0]))\n",
    "\n",
    "p_value_list = get_p_value_list(B_members_preds, B_nonmembers_preds, list_number_samples=[500])\n",
    "\n",
    "print(f\"The null hypothesis is that the B_members was not used for training. The p-value is {p_value_list[-1]}\")"
   ]
  },
  {
   "cell_type": "code",
   "execution_count": 73,
   "metadata": {},
   "outputs": [
    {
     "data": {
      "text/plain": [
       "torch.Size([500, 16])"
      ]
     },
     "execution_count": 73,
     "metadata": {},
     "output_type": "execute_result"
    }
   ],
   "source": [
    "B_nonmembers_metrics_ternsor.shape"
   ]
  },
  {
   "cell_type": "code",
   "execution_count": 29,
   "metadata": {},
   "outputs": [],
   "source": [
    "preds, loss = get_predictions(model, val_x, val_y)\n",
    "preds_train, loss_train = get_predictions(model, train_x, train_y)\n",
    "og_train = preds_train[train_y == 0]\n",
    "og_val = preds_train[train_y == 1]\n",
    "\n",
    "heldout_train = preds[val_y == 0]\n",
    "heldout_val = preds[val_y == 1]\n",
    "# alternate hypothesis: heldout_train < heldout_val\n",
    "\n",
    "if outliers == \"p-value\" or outliers == \"mean+p-value\":\n",
    "    heldout_train = remove_outliers(heldout_train, remove_frac = 0.05, outliers = \"randomize\")\n",
    "    heldout_val = remove_outliers(heldout_val, remove_frac = 0.05, outliers = \"randomize\")\n",
    "\n",
    "p_value_list = get_p_value_list(heldout_train, heldout_val, list_number_samples=[1000])"
   ]
  },
  {
   "cell_type": "code",
   "execution_count": 33,
   "metadata": {},
   "outputs": [
    {
     "data": {
      "text/plain": [
       "tensor([], size=(0, 16))"
      ]
     },
     "execution_count": 33,
     "metadata": {},
     "output_type": "execute_result"
    }
   ],
   "source": [
    "val_x"
   ]
  },
  {
   "cell_type": "code",
   "execution_count": 64,
   "metadata": {},
   "outputs": [
    {
     "data": {
      "text/plain": [
       "[nan]"
      ]
     },
     "execution_count": 64,
     "metadata": {},
     "output_type": "execute_result"
    }
   ],
   "source": [
    "p_value_list"
   ]
  },
  {
   "cell_type": "code",
   "execution_count": 48,
   "metadata": {},
   "outputs": [
    {
     "name": "stderr",
     "output_type": "stream",
     "text": [
      "loss 0.6395527124404907: 100%|██████████| 1000/1000 [00:01<00:00, 631.87it/s]\n"
     ]
    }
   ],
   "source": [
    "num_random = 1 # How many random runs to do?\n",
    "num_samples = 50 # How many samples to use for training and validation?\n",
    "for i in range(num_random):\n",
    "    np.random.shuffle(train_metrics)\n",
    "    np.random.shuffle(val_metrics)\n",
    "    \n",
    "    # train a model by creating a train set and a held out set\n",
    "    (train_x, train_y), (val_x, val_y) = get_dataset_splits(train_metrics, val_metrics, num_samples)\n",
    "    \n",
    "    model = train_model(train_x, train_y, num_epochs = 1000)\n",
    "    preds, loss = get_predictions(model, val_x, val_y)\n",
    "    preds_train, loss_train = get_predictions(model, train_x, train_y)\n",
    "    og_train = preds_train[train_y == 0]\n",
    "    og_val = preds_train[train_y == 1]\n",
    "\n",
    "    heldout_train = preds[val_y == 0]\n",
    "    heldout_val = preds[val_y == 1]\n",
    "    # alternate hypothesis: heldout_train < heldout_val\n",
    "    \n",
    "    if outliers == \"p-value\" or outliers == \"mean+p-value\":\n",
    "        heldout_train = remove_outliers(heldout_train, remove_frac = 0.05, outliers = \"randomize\")\n",
    "        heldout_val = remove_outliers(heldout_val, remove_frac = 0.05, outliers = \"randomize\")\n",
    "\n",
    "    p_value_list = get_p_value_list(heldout_train, heldout_val)\n",
    "\n"
   ]
  },
  {
   "cell_type": "code",
   "execution_count": 23,
   "metadata": {},
   "outputs": [
    {
     "data": {
      "text/plain": [
       "array([ 2.88661   , -0.3874984 , -0.79101145, -0.01261542,  0.46413305,\n",
       "       -0.13811317, -0.41857734, -0.3877732 , -0.14110729,  0.01094624,\n",
       "       -0.10262962, -0.7831085 ,  0.49617842, -0.20826474,  0.14064273,\n",
       "       -0.03651986,  1.8923998 ,  1.2640717 , -0.43924025,  0.06790521,\n",
       "       -0.19424674,  0.7400899 , -0.28640273,  2.265852  ,  1.4073684 ,\n",
       "       -0.07915518, -0.15063187, -0.8372953 ,  0.99971545,  0.05996384,\n",
       "        0.7860302 ,  0.3840671 , -0.10859922,  1.0737193 ,  0.5344206 ,\n",
       "        5.2956033 ,  0.23978582, -0.60437536,  1.1431992 , -0.63941866,\n",
       "        0.36124316, -1.4273818 ,  2.5828536 , -0.14944503,  0.70359766,\n",
       "        0.79249525, -0.04778824,  0.6618693 , -0.4120402 , -1.0859761 ],\n",
       "      dtype=float32)"
      ]
     },
     "execution_count": 23,
     "metadata": {},
     "output_type": "execute_result"
    }
   ],
   "source": [
    "heldout_val"
   ]
  },
  {
   "cell_type": "code",
   "execution_count": 49,
   "metadata": {},
   "outputs": [
    {
     "data": {
      "text/html": [
       "<div>\n",
       "<style scoped>\n",
       "    .dataframe tbody tr th:only-of-type {\n",
       "        vertical-align: middle;\n",
       "    }\n",
       "\n",
       "    .dataframe tbody tr th {\n",
       "        vertical-align: top;\n",
       "    }\n",
       "\n",
       "    .dataframe thead th {\n",
       "        text-align: right;\n",
       "    }\n",
       "</style>\n",
       "<table border=\"1\" class=\"dataframe\">\n",
       "  <thead>\n",
       "    <tr style=\"text-align: right;\">\n",
       "      <th></th>\n",
       "      <th>Feature</th>\n",
       "      <th>Importance</th>\n",
       "    </tr>\n",
       "  </thead>\n",
       "  <tbody>\n",
       "    <tr>\n",
       "      <th>0</th>\n",
       "      <td>ppl</td>\n",
       "      <td>1.540416</td>\n",
       "    </tr>\n",
       "    <tr>\n",
       "      <th>1</th>\n",
       "      <td>k_min_probs_0.05</td>\n",
       "      <td>0.165446</td>\n",
       "    </tr>\n",
       "    <tr>\n",
       "      <th>2</th>\n",
       "      <td>k_min_probs_0.1</td>\n",
       "      <td>-0.637058</td>\n",
       "    </tr>\n",
       "    <tr>\n",
       "      <th>3</th>\n",
       "      <td>k_min_probs_0.2</td>\n",
       "      <td>0.328577</td>\n",
       "    </tr>\n",
       "    <tr>\n",
       "      <th>4</th>\n",
       "      <td>k_min_probs_0.3</td>\n",
       "      <td>0.423384</td>\n",
       "    </tr>\n",
       "    <tr>\n",
       "      <th>5</th>\n",
       "      <td>k_min_probs_0.4</td>\n",
       "      <td>0.048116</td>\n",
       "    </tr>\n",
       "    <tr>\n",
       "      <th>6</th>\n",
       "      <td>k_min_probs_0.5</td>\n",
       "      <td>-0.419963</td>\n",
       "    </tr>\n",
       "    <tr>\n",
       "      <th>7</th>\n",
       "      <td>k_min_probs_0.6</td>\n",
       "      <td>-1.439138</td>\n",
       "    </tr>\n",
       "    <tr>\n",
       "      <th>8</th>\n",
       "      <td>k_max_probs_0.05</td>\n",
       "      <td>2.402489</td>\n",
       "    </tr>\n",
       "    <tr>\n",
       "      <th>9</th>\n",
       "      <td>k_max_probs_0.1</td>\n",
       "      <td>-3.714744</td>\n",
       "    </tr>\n",
       "    <tr>\n",
       "      <th>10</th>\n",
       "      <td>k_max_probs_0.2</td>\n",
       "      <td>-0.807581</td>\n",
       "    </tr>\n",
       "    <tr>\n",
       "      <th>11</th>\n",
       "      <td>k_max_probs_0.3</td>\n",
       "      <td>1.166866</td>\n",
       "    </tr>\n",
       "    <tr>\n",
       "      <th>12</th>\n",
       "      <td>k_max_probs_0.4</td>\n",
       "      <td>1.435386</td>\n",
       "    </tr>\n",
       "    <tr>\n",
       "      <th>13</th>\n",
       "      <td>k_max_probs_0.5</td>\n",
       "      <td>-0.361273</td>\n",
       "    </tr>\n",
       "    <tr>\n",
       "      <th>14</th>\n",
       "      <td>k_max_probs_0.6</td>\n",
       "      <td>0.141904</td>\n",
       "    </tr>\n",
       "    <tr>\n",
       "      <th>15</th>\n",
       "      <td>zlib_ratio</td>\n",
       "      <td>0.183383</td>\n",
       "    </tr>\n",
       "  </tbody>\n",
       "</table>\n",
       "</div>"
      ],
      "text/plain": [
       "             Feature  Importance\n",
       "0                ppl    1.540416\n",
       "1   k_min_probs_0.05    0.165446\n",
       "2    k_min_probs_0.1   -0.637058\n",
       "3    k_min_probs_0.2    0.328577\n",
       "4    k_min_probs_0.3    0.423384\n",
       "5    k_min_probs_0.4    0.048116\n",
       "6    k_min_probs_0.5   -0.419963\n",
       "7    k_min_probs_0.6   -1.439138\n",
       "8   k_max_probs_0.05    2.402489\n",
       "9    k_max_probs_0.1   -3.714744\n",
       "10   k_max_probs_0.2   -0.807581\n",
       "11   k_max_probs_0.3    1.166866\n",
       "12   k_max_probs_0.4    1.435386\n",
       "13   k_max_probs_0.5   -0.361273\n",
       "14   k_max_probs_0.6    0.141904\n",
       "15        zlib_ratio    0.183383"
      ]
     },
     "execution_count": 49,
     "metadata": {},
     "output_type": "execute_result"
    }
   ],
   "source": [
    "df"
   ]
  },
  {
   "cell_type": "code",
   "execution_count": 50,
   "metadata": {},
   "outputs": [
    {
     "data": {
      "text/plain": [
       "[0.4107766773806425,\n",
       " 0.36980158876864666,\n",
       " 0.04752750963490783,\n",
       " 0.11867921856676313,\n",
       " 0.37389410780078125,\n",
       " 0.22268208266235634,\n",
       " 0.06599884749456343,\n",
       " 0.020113088684094473,\n",
       " 0.011704511371354429,\n",
       " 0.00850177909203288,\n",
       " 0.042105663716985556,\n",
       " 0.008986398306532558,\n",
       " 0.0007218499858375457,\n",
       " 0.0003354090956819818,\n",
       " 0.001154656311558945,\n",
       " 0.0035443146056995225]"
      ]
     },
     "execution_count": 50,
     "metadata": {},
     "output_type": "execute_result"
    }
   ],
   "source": [
    "p_value_list"
   ]
  },
  {
   "cell_type": "code",
   "execution_count": 50,
   "metadata": {},
   "outputs": [
    {
     "data": {
      "text/plain": [
       "array([ 0.51663136, -0.1560684 ,  0.5157334 , -0.21615733,  0.52323455,\n",
       "        1.8859843 ,  0.511774  , -0.625938  , -0.99483424, -0.41054124,\n",
       "        1.4793929 ,  0.22003429, -0.9509558 ,  0.13129918, -0.22658832,\n",
       "       -1.0837651 , -0.5716633 , -0.11621578,  0.5561568 , -0.8394647 ,\n",
       "        0.4006781 , -0.09853537,  0.88472337,  0.8128087 ,  0.18891428,\n",
       "       -0.06233807, -0.15602644,  0.5759302 , -1.1861213 ,  0.3780684 ,\n",
       "       -0.85187584,  0.44206327, -1.2670323 ,  1.8527066 ,  0.04044168,\n",
       "       -0.7800655 ,  1.0773345 ,  1.4372088 ,  0.412579  , -0.24890132,\n",
       "       -0.2590168 , -0.1424504 ,  0.50125974,  0.04421322,  1.0535867 ,\n",
       "        0.71610206, -1.673247  , -0.5741055 , -1.6307869 ,  0.26277822],\n",
       "      dtype=float32)"
      ]
     },
     "execution_count": 50,
     "metadata": {},
     "output_type": "execute_result"
    }
   ],
   "source": [
    "heldout_train"
   ]
  },
  {
   "cell_type": "code",
   "execution_count": null,
   "metadata": {},
   "outputs": [],
   "source": []
  }
 ],
 "metadata": {
  "kernelspec": {
   "display_name": "Python 3",
   "language": "python",
   "name": "python3"
  },
  "language_info": {
   "codemirror_mode": {
    "name": "ipython",
    "version": 3
   },
   "file_extension": ".py",
   "mimetype": "text/x-python",
   "name": "python",
   "nbconvert_exporter": "python",
   "pygments_lexer": "ipython3",
   "version": "3.8.10"
  }
 },
 "nbformat": 4,
 "nbformat_minor": 2
}
